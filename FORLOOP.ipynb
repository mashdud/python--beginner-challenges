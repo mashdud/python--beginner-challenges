{
 "cells": [
  {
   "cell_type": "code",
   "execution_count": 11,
   "id": "2071edd5",
   "metadata": {},
   "outputs": [],
   "source": [
    "numbers =[10,30,33,24,50,60,60,80]\n",
    "c=0\n",
    "for num in numbers :\n",
    "    c +=num"
   ]
  },
  {
   "cell_type": "code",
   "execution_count": 12,
   "id": "020d03a0",
   "metadata": {},
   "outputs": [
    {
     "name": "stdout",
     "output_type": "stream",
     "text": [
      "347\n"
     ]
    }
   ],
   "source": [
    "print(c)"
   ]
  },
  {
   "cell_type": "code",
   "execution_count": 13,
   "id": "c42ff54e",
   "metadata": {},
   "outputs": [],
   "source": [
    "def function_sum(numbers):\n",
    "    add=sum(numbers)\n",
    "    print(add)\n",
    "  "
   ]
  },
  {
   "cell_type": "code",
   "execution_count": 14,
   "id": "89039f9e",
   "metadata": {},
   "outputs": [
    {
     "name": "stdout",
     "output_type": "stream",
     "text": [
      "347\n"
     ]
    }
   ],
   "source": [
    "function_sum(numbers)"
   ]
  },
  {
   "cell_type": "code",
   "execution_count": null,
   "id": "06092e02",
   "metadata": {},
   "outputs": [],
   "source": []
  },
  {
   "cell_type": "code",
   "execution_count": 16,
   "id": "6f2241cd",
   "metadata": {},
   "outputs": [
    {
     "name": "stdout",
     "output_type": "stream",
     "text": [
      "0 10\n",
      "1 30\n",
      "2 33\n",
      "3 24\n",
      "4 50\n",
      "5 60\n",
      "6 60\n",
      "7 80\n"
     ]
    }
   ],
   "source": [
    "for idx in range (len(numbers )):\n",
    "    print(idx,numbers[idx])"
   ]
  },
  {
   "cell_type": "markdown",
   "id": "a2c03be4",
   "metadata": {},
   "source": [
    "altenative "
   ]
  },
  {
   "cell_type": "code",
   "execution_count": 18,
   "id": "523e152c",
   "metadata": {},
   "outputs": [
    {
     "name": "stdout",
     "output_type": "stream",
     "text": [
      "1 10\n",
      "2 30\n",
      "3 33\n",
      "4 24\n",
      "5 50\n",
      "6 60\n",
      "7 60\n",
      "8 80\n"
     ]
    }
   ],
   "source": [
    "for idx,val in enumerate(numbers,start=1):\n",
    "    print(idx,val)"
   ]
  },
  {
   "cell_type": "code",
   "execution_count": 19,
   "id": "97dbdfe1",
   "metadata": {},
   "outputs": [
    {
     "name": "stdout",
     "output_type": "stream",
     "text": [
      "1 a\n",
      "2 b\n",
      "3 c\n"
     ]
    }
   ],
   "source": [
    "a=[1,2,3]\n",
    "b=[\"a\",\"b\",\"c\"]\n",
    "\n",
    "for idx in range(len(a)):\n",
    "    print(a[idx], b[idx])\n",
    "    "
   ]
  },
  {
   "cell_type": "markdown",
   "id": "e7123660",
   "metadata": {},
   "source": [
    "alternative "
   ]
  },
  {
   "cell_type": "code",
   "execution_count": 20,
   "id": "0fe3b52e",
   "metadata": {},
   "outputs": [
    {
     "name": "stdout",
     "output_type": "stream",
     "text": [
      "1 a\n",
      "2 b\n",
      "3 c\n"
     ]
    }
   ],
   "source": [
    "#use zip\n",
    "\n",
    "for val1,val2 in zip(a,b):\n",
    "    print(val1,val2)"
   ]
  },
  {
   "cell_type": "code",
   "execution_count": 25,
   "id": "2c61a01f",
   "metadata": {},
   "outputs": [
    {
     "name": "stdout",
     "output_type": "stream",
     "text": [
      "15\n"
     ]
    }
   ],
   "source": [
    "events=[(\"learn\",5), (\"learn\",10), (\"relaxed\",20)]\n",
    "minutes_studied=0\n",
    "for event in events:\n",
    "    if event[0]== \"learn\":\n",
    "        minutes_studied += event[1]\n",
    "print(minutes_studied)"
   ]
  },
  {
   "cell_type": "code",
   "execution_count": 33,
   "id": "6e6074dc",
   "metadata": {},
   "outputs": [
    {
     "name": "stdout",
     "output_type": "stream",
     "text": [
      "15\n"
     ]
    }
   ],
   "source": [
    "study_times= (event[1] for event in events if event[0]==\"learn\")\n",
    "minutes_studied=sum(study_times)\n",
    "print(minutes_studied)"
   ]
  },
  {
   "cell_type": "code",
   "execution_count": 37,
   "id": "d9547994",
   "metadata": {},
   "outputs": [
    {
     "name": "stdout",
     "output_type": "stream",
     "text": [
      "(0, 'line1')\n",
      "(1, 'line2')\n",
      "(2, 'line3')\n",
      "(3, 'line4')\n",
      "(4, 'line5')\n",
      "(5, 'line6')\n",
      "(6, 'line7')\n",
      "(7, 'line8')\n",
      "(8, 'line9')\n"
     ]
    }
   ],
   "source": [
    "lines=[\"line1\",\"line2\",\"line3\",\"line4\",\"line5\",\"line6\",\"line7\",\"line8\",\"line9\"]\n",
    "\n",
    "for i in enumerate(lines):\n",
    "    print(i)"
   ]
  },
  {
   "cell_type": "code",
   "execution_count": 39,
   "id": "12ce74f5",
   "metadata": {},
   "outputs": [
    {
     "name": "stdout",
     "output_type": "stream",
     "text": [
      "line1\n",
      "line2\n",
      "line3\n",
      "line4\n",
      "line5\n",
      "\n"
     ]
    }
   ],
   "source": [
    "for i,line in enumerate(lines):\n",
    "    if i >=5:\n",
    "        break\n",
    "    print(line)\n"
   ]
  },
  {
   "cell_type": "markdown",
   "id": "fd3a9fd0",
   "metadata": {},
   "source": [
    "alternative"
   ]
  },
  {
   "cell_type": "code",
   "execution_count": 42,
   "id": "06a7ae66",
   "metadata": {},
   "outputs": [
    {
     "name": "stdout",
     "output_type": "stream",
     "text": [
      "line1\n",
      "line2\n",
      "line3\n",
      "line4\n",
      "line5\n"
     ]
    }
   ],
   "source": [
    "from itertools import islice \n",
    "\n",
    "first_five_lines =islice(lines,5)\n",
    "for line in first_five_lines:\n",
    "    print(line)\n"
   ]
  },
  {
   "cell_type": "code",
   "execution_count": 43,
   "id": "1def59d2",
   "metadata": {},
   "outputs": [
    {
     "name": "stdout",
     "output_type": "stream",
     "text": [
      "line2\n",
      "line3\n",
      "line4\n",
      "line5\n"
     ]
    }
   ],
   "source": [
    "first_five_lines =islice(lines,1,5)\n",
    "for line in first_five_lines:\n",
    "    print(line)\n"
   ]
  },
  {
   "cell_type": "code",
   "execution_count": 44,
   "id": "7597e47a",
   "metadata": {},
   "outputs": [
    {
     "name": "stdout",
     "output_type": "stream",
     "text": [
      "A B\n",
      "B C\n",
      "C D\n",
      "D E\n",
      "E F\n",
      "F G\n"
     ]
    }
   ],
   "source": [
    "data='ABCDEFG'\n",
    "for i in range( len(data)-1):\n",
    "    print(data[i],data[i+1])"
   ]
  },
  {
   "cell_type": "code",
   "execution_count": 45,
   "id": "10f5f8dc",
   "metadata": {},
   "outputs": [
    {
     "name": "stdout",
     "output_type": "stream",
     "text": [
      "0\n",
      "1\n",
      "2\n",
      "3\n",
      "4\n",
      "5\n"
     ]
    }
   ],
   "source": [
    "for i in range( len(data)-1):\n",
    "    print(i)"
   ]
  },
  {
   "cell_type": "code",
   "execution_count": 46,
   "id": "37c6fc61",
   "metadata": {},
   "outputs": [
    {
     "name": "stdout",
     "output_type": "stream",
     "text": [
      "A\n",
      "B\n",
      "C\n",
      "D\n",
      "E\n",
      "F\n"
     ]
    }
   ],
   "source": [
    "for i in range( len(data)-1):\n",
    "    print(data[i])"
   ]
  },
  {
   "cell_type": "markdown",
   "id": "04d8fa44",
   "metadata": {},
   "source": [
    "alternative "
   ]
  },
  {
   "cell_type": "code",
   "execution_count": 51,
   "id": "ae3f4adc",
   "metadata": {},
   "outputs": [
    {
     "ename": "NameError",
     "evalue": "name 'pairwise' is not defined",
     "output_type": "error",
     "traceback": [
      "\u001b[1;31m---------------------------------------------------------------------------\u001b[0m",
      "\u001b[1;31mNameError\u001b[0m                                 Traceback (most recent call last)",
      "Input \u001b[1;32mIn [51]\u001b[0m, in \u001b[0;36m<cell line: 1>\u001b[1;34m()\u001b[0m\n\u001b[1;32m----> 1\u001b[0m \u001b[38;5;28;01mfor\u001b[39;00m pair \u001b[38;5;129;01min\u001b[39;00m \u001b[43mpairwise\u001b[49m(\u001b[38;5;124m'\u001b[39m\u001b[38;5;124mABCDEFG\u001b[39m\u001b[38;5;124m'\u001b[39m):\n\u001b[0;32m      2\u001b[0m      \u001b[38;5;28mprint\u001b[39m(pair[\u001b[38;5;241m0\u001b[39m], pair[\u001b[38;5;241m1\u001b[39m])\n",
      "\u001b[1;31mNameError\u001b[0m: name 'pairwise' is not defined"
     ]
    }
   ],
   "source": [
    "\n",
    "for pair in pairwise('ABCDEFG'):\n",
    "     print(pair[0], pair[1])"
   ]
  },
  {
   "cell_type": "code",
   "execution_count": 52,
   "id": "0adbbfc3",
   "metadata": {},
   "outputs": [],
   "source": [
    "def pairwise(iterable):\n",
    "    # pairwise('ABCDEFG') --> AB BC CD DE EF FG\n",
    "    a, b = tee(iterable)\n",
    "    next(b, None)\n",
    "    return zip(a, b)"
   ]
  },
  {
   "cell_type": "code",
   "execution_count": null,
   "id": "ac832dd5",
   "metadata": {},
   "outputs": [],
   "source": []
  },
  {
   "cell_type": "code",
   "execution_count": null,
   "id": "e0307990",
   "metadata": {},
   "outputs": [],
   "source": []
  }
 ],
 "metadata": {
  "kernelspec": {
   "display_name": "Python 3 (ipykernel)",
   "language": "python",
   "name": "python3"
  },
  "language_info": {
   "codemirror_mode": {
    "name": "ipython",
    "version": 3
   },
   "file_extension": ".py",
   "mimetype": "text/x-python",
   "name": "python",
   "nbconvert_exporter": "python",
   "pygments_lexer": "ipython3",
   "version": "3.9.12"
  }
 },
 "nbformat": 4,
 "nbformat_minor": 5
}
