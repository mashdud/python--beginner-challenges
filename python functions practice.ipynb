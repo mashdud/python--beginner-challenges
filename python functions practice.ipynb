{
 "cells": [
  {
   "cell_type": "code",
   "execution_count": null,
   "id": "db5dd49a",
   "metadata": {},
   "outputs": [],
   "source": [
    "\n",
    "Exercise 1: Create a function in Python\n",
    "Exercise 2: Create a function with variable length of arguments\n",
    "Exercise 3: Return multiple values from a function\n",
    "Exercise 4: Create a function with a default argument\n",
    "Exercise 5: Create an inner function to calculate the addition in the following way\n",
    "Exercise 6: Create a recursive function\n",
    "Exercise 7: Assign a different name to function and call it through the new name\n",
    "Exercise 8: Generate a Python list of all the even numbers between 4 to 30\n",
    "Exercise 9: Find the largest item from a given list\n",
    "Exercise 1: Create a function in Python\n",
    "Write a program to create a function that takes two arguments, name and age, and print their"
   ]
  },
  {
   "cell_type": "code",
   "execution_count": null,
   "id": "d9d37f81",
   "metadata": {},
   "outputs": [],
   "source": []
  },
  {
   "cell_type": "markdown",
   "id": "55f1ff59",
   "metadata": {},
   "source": [
    "Write a program to create a function that takes two arguments, name and age, and print their value."
   ]
  },
  {
   "cell_type": "code",
   "execution_count": 3,
   "id": "87668f87",
   "metadata": {},
   "outputs": [],
   "source": [
    "def my_function(name,age):\n",
    "    print(name,age)\n",
    "    "
   ]
  },
  {
   "cell_type": "code",
   "execution_count": 4,
   "id": "b6a09cb1",
   "metadata": {},
   "outputs": [
    {
     "name": "stdout",
     "output_type": "stream",
     "text": [
      "queen 15\n"
     ]
    }
   ],
   "source": [
    "my_function(\"queen\",15)"
   ]
  },
  {
   "cell_type": "markdown",
   "id": "706f9d91",
   "metadata": {},
   "source": [
    "Exercise 2: Create a function with variable length of arguments\n",
    "\n",
    "Write a program to create function func1() to accept a variable length of arguments and print their value.\n",
    "\n",
    "Note: Create a function in such a way that we can pass any number of arguments to this function, and the function should process them and display each argument’s value."
   ]
  },
  {
   "cell_type": "code",
   "execution_count": 5,
   "id": "a4933575",
   "metadata": {},
   "outputs": [
    {
     "name": "stdout",
     "output_type": "stream",
     "text": [
      "20\n",
      "40\n",
      "60\n",
      "80\n",
      "100\n"
     ]
    }
   ],
   "source": [
    "def func1(*args):\n",
    "    for i in args:\n",
    "        print(i)\n",
    "\n",
    "func1(20, 40, 60)\n",
    "func1(80, 100)"
   ]
  },
  {
   "cell_type": "markdown",
   "id": "e47d7912",
   "metadata": {},
   "source": [
    "\n",
    "Exercise 3: Return multiple values from a function\n",
    "Write a program to create function calculation() such that it can accept two variables and calculate addition and subtraction. Also, it must return both addition and subtraction in a single return call."
   ]
  },
  {
   "cell_type": "code",
   "execution_count": 12,
   "id": "af54c2ad",
   "metadata": {},
   "outputs": [
    {
     "name": "stdout",
     "output_type": "stream",
     "text": [
      "(9, -1)\n"
     ]
    }
   ],
   "source": [
    "def calculation(var1,var2):\n",
    "        add= var1+var2\n",
    "        sub=var1-var2\n",
    "        return add,sub\n",
    "    \n",
    "res=calculation(4,5)\n",
    "print(res)"
   ]
  },
  {
   "cell_type": "code",
   "execution_count": 13,
   "id": "8f5ed41d",
   "metadata": {},
   "outputs": [
    {
     "name": "stdout",
     "output_type": "stream",
     "text": [
      "(50, 30)\n"
     ]
    }
   ],
   "source": [
    "def calculation(a, b):\n",
    "    addition = a + b\n",
    "    subtraction = a - b\n",
    "    # return multiple values separated by comma\n",
    "    return addition, subtraction\n",
    "\n",
    "# get result in tuple format\n",
    "res = calculation(40, 10)\n",
    "print(res)"
   ]
  },
  {
   "cell_type": "markdown",
   "id": "a2400fb1",
   "metadata": {},
   "source": [
    "Exercise 4: Create a function with a default argument\n",
    "Write a program to create a function show_employee() using the following conditions.\n",
    "\n",
    "It should accept the employee’s name and salary and display both.\n",
    "If the salary is missing in the function call then assign default value 9000 to salary"
   ]
  },
  {
   "cell_type": "code",
   "execution_count": 18,
   "id": "2b1b87c9",
   "metadata": {},
   "outputs": [],
   "source": [
    "def show_employee(name,salary=900) :\n",
    "    print('employee details :',name,salary)\n",
    "    "
   ]
  },
  {
   "cell_type": "code",
   "execution_count": 20,
   "id": "27d3a448",
   "metadata": {},
   "outputs": [
    {
     "name": "stdout",
     "output_type": "stream",
     "text": [
      "employee details : queen 900\n"
     ]
    }
   ],
   "source": [
    "show_employee('queen') "
   ]
  },
  {
   "cell_type": "code",
   "execution_count": 21,
   "id": "aa9dd264",
   "metadata": {},
   "outputs": [
    {
     "name": "stdout",
     "output_type": "stream",
     "text": [
      "employee details : queen 30\n"
     ]
    }
   ],
   "source": [
    "show_employee('queen',30)"
   ]
  },
  {
   "cell_type": "code",
   "execution_count": 23,
   "id": "cebffb47",
   "metadata": {},
   "outputs": [
    {
     "name": "stdout",
     "output_type": "stream",
     "text": [
      "Name: Ben salary: 12000\n",
      "Name: Jessa salary: 9000\n"
     ]
    }
   ],
   "source": [
    "# function with default argument\n",
    "def show_employee(name, salary=9000):\n",
    "    print(\"Name:\", name, \"salary:\", salary)\n",
    "\n",
    "show_employee(\"Ben\", 12000)\n",
    "show_employee(\"Jessa\")"
   ]
  },
  {
   "cell_type": "markdown",
   "id": "df89429a",
   "metadata": {},
   "source": [
    "Let’s define a function student() with four arguments name, age, grade, and school. In this function, grade and school are default arguments with default values.\n",
    "\n",
    "If you call a function without school and grade arguments, then the default values of grade and school are used.\n",
    "The age and name parameters do not have default values and are required (mandatory) during a function call."
   ]
  },
  {
   "cell_type": "code",
   "execution_count": 14,
   "id": "cbfaca9d",
   "metadata": {},
   "outputs": [],
   "source": [
    "def student(name, age, grade=\"Five\", school=\"ABC School\"):\n",
    "     print('student details:',name,age,grade,school)"
   ]
  },
  {
   "cell_type": "code",
   "execution_count": 15,
   "id": "f5025e70",
   "metadata": {},
   "outputs": [
    {
     "name": "stdout",
     "output_type": "stream",
     "text": [
      "student details: Jon 12 Five ABC School\n"
     ]
    }
   ],
   "source": [
    "student('Jon', 12)\n"
   ]
  },
  {
   "cell_type": "markdown",
   "id": "c1718fa7",
   "metadata": {},
   "source": [
    "Passing one of the default arguments:\n",
    "\n",
    "If you pass values of the grade and school arguments while calling a function, then those values are used instead of default values."
   ]
  },
  {
   "cell_type": "code",
   "execution_count": 22,
   "id": "c4e61e03",
   "metadata": {},
   "outputs": [
    {
     "name": "stdout",
     "output_type": "stream",
     "text": [
      "Student Details: Kelly 12 Six ABC School\n",
      "Student Details: Jessa 12 Seven XYZ School\n"
     ]
    }
   ],
   "source": [
    "# function with 2 keyword arguments grade and school\n",
    "def student(name, age, grade=\"Five\", school=\"ABC School\"):\n",
    "    print('Student Details:', name, age, grade, school)\n",
    "\n",
    "# not passing a school value (default value is used)\n",
    "# six is assigned to grade\n",
    "student('Kelly', 12, 'Six')\n",
    "\n",
    "# passign all arguments\n",
    "student('Jessa', 12, 'Seven', 'XYZ School')"
   ]
  },
  {
   "cell_type": "markdown",
   "id": "050593f8",
   "metadata": {},
   "source": [
    "Exercise 5: Create an inner function to calculate the addition in the following way"
   ]
  },
  {
   "cell_type": "markdown",
   "id": "83722974",
   "metadata": {},
   "source": [
    "Create an outer function that will accept two parameters, a and b\n",
    "Create an inner function inside an outer function that will calculate the addition of a and b\n",
    "At last, an outer function will add 5 into addition and return it"
   ]
  },
  {
   "cell_type": "code",
   "execution_count": 31,
   "id": "4426c25c",
   "metadata": {},
   "outputs": [
    {
     "name": "stdout",
     "output_type": "stream",
     "text": [
      "20\n"
     ]
    }
   ],
   "source": [
    "def outer_fun(a, b):\n",
    "    square = a ** 2\n",
    "\n",
    "    # inner function\n",
    "    def addition(a, b):\n",
    "        return a + b\n",
    "\n",
    "    # call inner function from outer function\n",
    "    add = addition(a, b)\n",
    "    # add 5 to the result\n",
    "    return add + 5\n",
    "\n",
    "result = outer_fun(5, 10)\n",
    "print(result)"
   ]
  },
  {
   "cell_type": "code",
   "execution_count": null,
   "id": "d039b273",
   "metadata": {},
   "outputs": [],
   "source": [
    "def outer(a,b):\n",
    "\n",
    "    a = a + 5\n",
    "\n",
    "    def inner(a, b):\n",
    "\n",
    "        return a + b\n",
    "\n",
    "\n",
    "    res = inner(a,b)\n",
    "\n",
    "    print(res)\n",
    "\n",
    "\n",
    "outer(5,10)"
   ]
  },
  {
   "cell_type": "code",
   "execution_count": 64,
   "id": "838428cd",
   "metadata": {},
   "outputs": [],
   "source": [
    "def outer_function(a,b):\n",
    "    def inner_function():\n",
    "        add = a + b\n",
    "        return add\n",
    "    return inner_function() + 5"
   ]
  },
  {
   "cell_type": "code",
   "execution_count": 67,
   "id": "29c83676",
   "metadata": {},
   "outputs": [
    {
     "name": "stdout",
     "output_type": "stream",
     "text": [
      "20\n"
     ]
    }
   ],
   "source": [
    "print(outer_function(5,10))"
   ]
  },
  {
   "cell_type": "markdown",
   "id": "d7fbc128",
   "metadata": {},
   "source": [
    "# python inners functions"
   ]
  },
  {
   "cell_type": "code",
   "execution_count": null,
   "id": "e2b109a8",
   "metadata": {},
   "outputs": [],
   "source": []
  },
  {
   "cell_type": "markdown",
   "id": "bbd82c03",
   "metadata": {},
   "source": [
    "writting inner functions"
   ]
  },
  {
   "cell_type": "code",
   "execution_count": 42,
   "id": "d95bf0d4",
   "metadata": {},
   "outputs": [],
   "source": [
    "def outer_fn():\n",
    "    def inner_fn():\n",
    "        print(\"hello world\")\n",
    "    print(\"hello outside!\")\n",
    "    inner_fn()\n",
    " "
   ]
  },
  {
   "cell_type": "code",
   "execution_count": 43,
   "id": "6a9c30f0",
   "metadata": {},
   "outputs": [
    {
     "name": "stdout",
     "output_type": "stream",
     "text": [
      "hello outside!\n",
      "hello world\n"
     ]
    }
   ],
   "source": [
    "outer_fn()"
   ]
  },
  {
   "cell_type": "code",
   "execution_count": 51,
   "id": "a1a08b11",
   "metadata": {},
   "outputs": [],
   "source": [
    "def mug(stuff):\n",
    "    def inside():\n",
    "        print(f\"yummy {stuff}\")\n",
    "    inside()"
   ]
  },
  {
   "cell_type": "code",
   "execution_count": 52,
   "id": "eab62d66",
   "metadata": {},
   "outputs": [
    {
     "name": "stdout",
     "output_type": "stream",
     "text": [
      "yummy coffe\n"
     ]
    }
   ],
   "source": [
    "mug(\"coffe\")"
   ]
  },
  {
   "cell_type": "markdown",
   "id": "7e120de9",
   "metadata": {},
   "source": [
    "Recurcive function are fuction that call itselves"
   ]
  },
  {
   "cell_type": "code",
   "execution_count": 54,
   "id": "6b513f9f",
   "metadata": {},
   "outputs": [],
   "source": [
    "def _recurse_factorial(num):\n",
    "    if num<=1:\n",
    "        return 1\n",
    "    return num * _recurse_factorial(num -1)\n",
    "\n",
    "def first_factorial(num):\n",
    "    if not isinstance(num,int):\n",
    "        raise TypeError(\"Bad parameter, 'num'   must be an integer\")\n",
    "    if num<0 :\n",
    "        raise ValueError(\"Bad parameter,'num' must be >=0\")\n",
    "    \n",
    "    return _recurse_factorial(num)\n",
    "    "
   ]
  },
  {
   "cell_type": "code",
   "execution_count": 59,
   "id": "feadbd4d",
   "metadata": {},
   "outputs": [
    {
     "data": {
      "text/plain": [
       "24"
      ]
     },
     "execution_count": 59,
     "metadata": {},
     "output_type": "execute_result"
    }
   ],
   "source": [
    "_recurse_factorial(4)"
   ]
  },
  {
   "cell_type": "code",
   "execution_count": null,
   "id": "8c41d638",
   "metadata": {},
   "outputs": [],
   "source": []
  },
  {
   "cell_type": "markdown",
   "id": "040ed781",
   "metadata": {},
   "source": [
    "Exercise 6: Create a recursive function\n",
    "Write a program to create a recursive function to calculate the sum of numbers from 0 to 10.\n",
    "\n",
    "A recursive function is a function that calls itself again and again."
   ]
  },
  {
   "cell_type": "code",
   "execution_count": 58,
   "id": "ad35dcde",
   "metadata": {},
   "outputs": [
    {
     "name": "stdout",
     "output_type": "stream",
     "text": [
      "55\n"
     ]
    }
   ],
   "source": [
    "def addition(num):\n",
    "    if num:\n",
    "        # call same function by reducing number by 1\n",
    "        return num + addition(num - 1)\n",
    "    else:\n",
    "        return 0\n",
    "\n",
    "res = addition(10)\n",
    "print(res)"
   ]
  },
  {
   "cell_type": "markdown",
   "id": "742e6b72",
   "metadata": {},
   "source": [
    "Exercise 8: Generate a Python list of all the even numbers between 4 to 30"
   ]
  },
  {
   "cell_type": "code",
   "execution_count": 68,
   "id": "6305a238",
   "metadata": {},
   "outputs": [
    {
     "name": "stdout",
     "output_type": "stream",
     "text": [
      "[4, 6, 8, 10, 12, 14, 16, 18, 20, 22, 24, 26, 28, 30]\n"
     ]
    }
   ],
   "source": [
    "def even(n):\n",
    "    evennumber=[]\n",
    "    for i in range(4,n+1):\n",
    "        if i%2==0:\n",
    "            evennumber.append(i)\n",
    "    print(evennumber)\n",
    "even(30)"
   ]
  },
  {
   "cell_type": "code",
   "execution_count": 69,
   "id": "43e870cf",
   "metadata": {},
   "outputs": [
    {
     "name": "stdout",
     "output_type": "stream",
     "text": [
      "4 6 8 10 12 14 16 18 20 22 24 26 28 30 "
     ]
    }
   ],
   "source": [
    "for i in range(4,31):\n",
    "    if i%2 == 0:\n",
    "        print(i, end=' ')"
   ]
  },
  {
   "cell_type": "markdown",
   "id": "50c3849b",
   "metadata": {},
   "source": [
    "Exercise 9: Find the largest item from a given list"
   ]
  },
  {
   "cell_type": "code",
   "execution_count": 72,
   "id": "a777ca5f",
   "metadata": {},
   "outputs": [
    {
     "name": "stdout",
     "output_type": "stream",
     "text": [
      "Largest element is: 24\n"
     ]
    }
   ],
   "source": [
    "x = [4, 6, 8, 24, 12, 2]\n",
    "# sorting the list\n",
    "x.sort()\n",
    "# printing the last element\n",
    "print(\"Largest element is:\", x[-1])"
   ]
  },
  {
   "cell_type": "code",
   "execution_count": 73,
   "id": "ab5f16e1",
   "metadata": {},
   "outputs": [
    {
     "name": "stdout",
     "output_type": "stream",
     "text": [
      "24\n"
     ]
    }
   ],
   "source": [
    "x = [4, 6, 8, 24, 12, 2]\n",
    "print(max(x))"
   ]
  },
  {
   "cell_type": "markdown",
   "id": "69e619c5",
   "metadata": {},
   "source": [
    "Exercise 1: Define a function that accepts 2 values and return its sum, subtraction and multiplication."
   ]
  },
  {
   "cell_type": "code",
   "execution_count": 4,
   "id": "80a8d7c0",
   "metadata": {},
   "outputs": [
    {
     "data": {
      "text/plain": [
       "(9, -1, 20)"
      ]
     },
     "execution_count": 4,
     "metadata": {},
     "output_type": "execute_result"
    }
   ],
   "source": [
    "def function(var1,var2):\n",
    "    add=var1 +var2\n",
    "    subtraction=var1-var2\n",
    "    multi=var1*var2\n",
    "    return add,subtraction,multi\n",
    "\n",
    "function(4,5)"
   ]
  },
  {
   "cell_type": "markdown",
   "id": "dc3aea26",
   "metadata": {},
   "source": [
    "method 2"
   ]
  },
  {
   "cell_type": "code",
   "execution_count": 5,
   "id": "e69bba53",
   "metadata": {},
   "outputs": [
    {
     "name": "stdout",
     "output_type": "stream",
     "text": [
      "Enter value of a: 7\n",
      "Enter value of b: 5\n",
      "Sum is 12, Sub is 2, & Multiply is 35\n"
     ]
    }
   ],
   "source": [
    "def result(a, b):\n",
    "    sum = a+b\n",
    "    sub = a-b\n",
    "    mul = a*b\n",
    "    print(f\"Sum is {sum}, Sub is {sub}, & Multiply is {mul}\")\n",
    "\n",
    "a = int(input(\"Enter value of a: \"))  # 7\n",
    "b = int(input(\"Enter value of b: \"))  # 5\n",
    "result(a,b)"
   ]
  },
  {
   "cell_type": "markdown",
   "id": "f82498c7",
   "metadata": {},
   "source": [
    "Exercise 2: Define a function that accepts roll number and returns whether the student is present or absent."
   ]
  },
  {
   "cell_type": "code",
   "execution_count": 6,
   "id": "a04c3143",
   "metadata": {},
   "outputs": [
    {
     "name": "stdout",
     "output_type": "stream",
     "text": [
      "Enter roll no. 4\n",
      "Roll number 4 is absent\n"
     ]
    }
   ],
   "source": [
    "def detail(roll):\n",
    "    x = [23,43,22,56]\n",
    "    if roll in x:\n",
    "        print(f\"Roll number {roll} is present\")\n",
    "    else:\n",
    "        print(f\"Roll number {roll} is absent\")\n",
    "roll = int(input(\"Enter roll no. \")) # 24\n",
    "detail(roll)"
   ]
  },
  {
   "cell_type": "code",
   "execution_count": 7,
   "id": "1be45634",
   "metadata": {},
   "outputs": [
    {
     "name": "stdout",
     "output_type": "stream",
     "text": [
      "enter number4\n",
      "present\n"
     ]
    }
   ],
   "source": [
    "def fun(roll):\n",
    "    y=[23,67,45,3,6,4,5]\n",
    "    if roll in y:\n",
    "        print(\"present\")\n",
    "    else:\n",
    "        print(\"absent\")\n",
    "        \n",
    "roll=int(input(\"enter number\"))\n",
    "fun(roll)\n",
    "    "
   ]
  },
  {
   "cell_type": "markdown",
   "id": "916af6d6",
   "metadata": {},
   "source": [
    "Exercise 3: Define a function in python that accepts 3 values and returns the maximum of three numbers."
   ]
  },
  {
   "cell_type": "code",
   "execution_count": 9,
   "id": "973d97fb",
   "metadata": {},
   "outputs": [
    {
     "data": {
      "text/plain": [
       "90"
      ]
     },
     "execution_count": 9,
     "metadata": {},
     "output_type": "execute_result"
    }
   ],
   "source": [
    "def function(var1,var2,var3):\n",
    "    maxim=max(var1,var2,var3)\n",
    "    return maxim\n",
    "function(56,67,90)"
   ]
  },
  {
   "cell_type": "markdown",
   "id": "cb0d5877",
   "metadata": {},
   "source": [
    "method 2"
   ]
  },
  {
   "cell_type": "code",
   "execution_count": 11,
   "id": "41b1e885",
   "metadata": {},
   "outputs": [
    {
     "name": "stdout",
     "output_type": "stream",
     "text": [
      "90 is maximum among all\n"
     ]
    }
   ],
   "source": [
    "def max(a, b, c):\n",
    "    if a > b and a > c:\n",
    "        print(f\"{a} is maximum among all\")\n",
    "    elif b > a and b > c:\n",
    "        print(f\"{b} is maximum among all\")\n",
    "    else:\n",
    "        print(f\"{c} is maximum among all\")\n",
    "\n",
    "max(56,67,90)"
   ]
  },
  {
   "cell_type": "markdown",
   "id": "7e1075fa",
   "metadata": {},
   "source": [
    " Define a function that accepts a number and returns whether the number is even or odd."
   ]
  },
  {
   "cell_type": "markdown",
   "id": "79766341",
   "metadata": {},
   "source": [
    "the following function is wrong"
   ]
  },
  {
   "cell_type": "code",
   "execution_count": 26,
   "id": "c44170f5",
   "metadata": {},
   "outputs": [],
   "source": [
    "def function(a):\n",
    "    if a%2 == 0:\n",
    "        print(\"the number you have entered in even\",a)\n",
    "    elif  a%3== 0:\n",
    "        print(\"the number you have entered is odd \",a)\n",
    "        \n",
    "    else:\n",
    "        print(\"the number you entered is neither odd or even\")\n",
    "            "
   ]
  },
  {
   "cell_type": "markdown",
   "id": "a88c0404",
   "metadata": {},
   "source": [
    "the correct one "
   ]
  },
  {
   "cell_type": "code",
   "execution_count": 28,
   "id": "9d60dfcc",
   "metadata": {},
   "outputs": [
    {
     "name": "stdout",
     "output_type": "stream",
     "text": [
      "Enter a number 4\n",
      "4 is Even number\n"
     ]
    }
   ],
   "source": [
    "def func(x):\n",
    "    if x % 2 == 0:\n",
    "        print(f\"{x} is Even number\")\n",
    "    else:\n",
    "        print(f\"{x} is Odd number\")\n",
    "x = int(input(\"Enter a number \"))\n",
    "func(4)"
   ]
  },
  {
   "cell_type": "markdown",
   "id": "c315b6c4",
   "metadata": {},
   "source": [
    "Exercise 5: Define a function which counts vowels and consonant in a word."
   ]
  },
  {
   "cell_type": "code",
   "execution_count": 29,
   "id": "d2d1a3ed",
   "metadata": {},
   "outputs": [
    {
     "name": "stdout",
     "output_type": "stream",
     "text": [
      "5\n",
      "['e', 'e', 'o', 'e', 'e']\n"
     ]
    }
   ],
   "source": [
    "def Check_Vow(string, vowels):\n",
    "    final = [each for each in string if each in vowels]\n",
    "    print(len(final))\n",
    "    print(final)\n",
    "     \n",
    "# Driver Code\n",
    "string = \"Geeks for Geeks\"\n",
    "vowels = \"AaEeIiOoUu\"\n",
    "Check_Vow(string, vowels);"
   ]
  },
  {
   "cell_type": "code",
   "execution_count": 30,
   "id": "e43b4508",
   "metadata": {},
   "outputs": [
    {
     "name": "stdout",
     "output_type": "stream",
     "text": [
      "String: dff\n",
      "Number of vowel in string: 0\n",
      "[]\n",
      "Number of consonant in string: 3\n",
      "['d', 'f', 'f']\n"
     ]
    }
   ],
   "source": [
    "string = input('String: ')\n",
    "\n",
    "# vowel letters\n",
    "vowel = [ch for ch in string if ch in 'AEIOUaeiou']\n",
    "# consonant letters\n",
    "consonant = [ch for ch in string if ch not in 'AEIOUaeiou']\n",
    "\n",
    "# print number of vowels in string\n",
    "print('Number of vowel in string:', len(vowel))\n",
    "# print all vowels in string\n",
    "print(vowel)\n",
    "\n",
    "# print number of consonants in string\n",
    "print('Number of consonant in string:', len(consonant))\n",
    "# print all consonant in string\n",
    "print(consonant)"
   ]
  },
  {
   "cell_type": "code",
   "execution_count": 1,
   "id": "d3a6a45d",
   "metadata": {},
   "outputs": [
    {
     "name": "stdout",
     "output_type": "stream",
     "text": [
      "Enter Value: 6\n",
      "Count of vowels is  0\n",
      "Count of consonant is  1\n"
     ]
    }
   ],
   "source": [
    "def count(val):\n",
    "    vov = 0\n",
    "    con = 0\n",
    "    for i in range(len(val)):\n",
    "        if val[i] in ['a','e','i','o','u']:\n",
    "            vov = vov+1\n",
    "        else:\n",
    "            con = con + 1\n",
    "\n",
    "    print(\"Count of vowels is \",vov)\n",
    "    print(\"Count of consonant is \",con)\n",
    "\n",
    "x = input(\"Enter Value: \") # pythonlobby\n",
    "count(x)"
   ]
  },
  {
   "cell_type": "markdown",
   "id": "6653e27d",
   "metadata": {},
   "source": [
    "Coding Exercise: Update Prices\n",
    "Welcome to this coding exercise.\n",
    "\n",
    "A pizza shop has asked you to update the prices of all the types of pizzas. The data is stored in a dictionary that associates the names of the pizzas to their prices.\n",
    "\n",
    "- Your task is to use a for loop to iterate over the pizzas_prices dictionary and increment the prices by 15%.\n",
    "\n",
    "This is the initial dictionary:\n",
    "\n",
    "pizza_prices = {\n",
    "        \"Cheese Pizza\": 11.99,\n",
    "        \"Pepperoni Pizza\": 14.99,\n",
    "        \"BBQ Chicken Pizza\": 13.99,\n",
    "        \"Hawaiian Pizza\": 12.99,\n",
    "        \"Meat Pizza\": 16.99\n",
    "    }\n",
    "- The new prices must be rounded to 2 decimal places before assigning them to the dictionary.\n",
    "\n",
    "- Print the dictionary after updating it.\n",
    "\n",
    "---------\n",
    "\n",
    "💡 Tips:\n",
    "\n",
    "- You can increment a value by 15% by multiplying it by 1.15.\n",
    "\n",
    "- You will find the solution to this coding exercise in the solution.py file."
   ]
  },
  {
   "cell_type": "code",
   "execution_count": null,
   "id": "f9808776",
   "metadata": {},
   "outputs": [],
   "source": [
    "# if you want only the values\n",
    "for key in jjj:\n",
    "    print(jjj[key])"
   ]
  },
  {
   "cell_type": "code",
   "execution_count": 29,
   "id": "9df8406b",
   "metadata": {},
   "outputs": [],
   "source": [
    "pizza_prices = {\n",
    "        \"Cheese Pizza\": 11.99,\n",
    "        \"Pepperoni Pizza\": 14.99,\n",
    "        \"BBQ Chicken Pizza\": 13.99,\n",
    "        \"Hawaiian Pizza\": 12.99,\n",
    "        \"Meat Pizza\": 16.99\n",
    "    }"
   ]
  },
  {
   "cell_type": "code",
   "execution_count": 58,
   "id": "158fe867",
   "metadata": {},
   "outputs": [
    {
     "name": "stdout",
     "output_type": "stream",
     "text": [
      "Cheese Pizza  :  13.79\n",
      "Pepperoni Pizza  :  17.24\n",
      "BBQ Chicken Pizza  :  16.09\n",
      "Hawaiian Pizza  :  14.94\n",
      "Meat Pizza  :  19.54\n"
     ]
    }
   ],
   "source": [
    "\n",
    "\n",
    "for  key,value in pizza_prices.items():\n",
    "        symbol=value*1.15\n",
    "        symbol=float(\"{0:.2f}\".format(symbol))\n",
    "        #print(symbol)\n",
    "        print(key, ' : ', symbol)\n",
    "        #print(\"Key : {} , Value : {}\".format(symbol,pizza_prices[symbol]))\n",
    "     \n"
   ]
  },
  {
   "cell_type": "code",
   "execution_count": 54,
   "id": "6708aa80",
   "metadata": {},
   "outputs": [
    {
     "name": "stdout",
     "output_type": "stream",
     "text": [
      "Cheese Pizza  :  11.99\n",
      "Pepperoni Pizza  :  14.99\n",
      "BBQ Chicken Pizza  :  13.99\n",
      "Hawaiian Pizza  :  12.99\n",
      "Meat Pizza  :  16.99\n"
     ]
    }
   ],
   "source": [
    "for key, value in  pizza_prices.items():\n",
    "    print(key, ' : ', value)"
   ]
  },
  {
   "cell_type": "code",
   "execution_count": 47,
   "id": "b0189584",
   "metadata": {},
   "outputs": [
    {
     "ename": "IndentationError",
     "evalue": "expected an indented block (295118984.py, line 2)",
     "output_type": "error",
     "traceback": [
      "\u001b[1;36m  Input \u001b[1;32mIn [47]\u001b[1;36m\u001b[0m\n\u001b[1;33m    for symbol in pizza_prices.values():\u001b[0m\n\u001b[1;37m    ^\u001b[0m\n\u001b[1;31mIndentationError\u001b[0m\u001b[1;31m:\u001b[0m expected an indented block\n"
     ]
    }
   ],
   "source": [
    "def update_prices(pizza_prices):\n",
    "for symbol in pizza_prices.values():\n",
    "        \n",
    "        symbol*1.15\n",
    "        float(\"{0:.2f}\".format(symbol))\n",
    "        print(symbol)\n",
    "return pizza_prices\n",
    "     \n"
   ]
  },
  {
   "cell_type": "code",
   "execution_count": 46,
   "id": "c32c8458",
   "metadata": {
    "scrolled": true
   },
   "outputs": [
    {
     "ename": "AttributeError",
     "evalue": "'float' object has no attribute 'values'",
     "output_type": "error",
     "traceback": [
      "\u001b[1;31m---------------------------------------------------------------------------\u001b[0m",
      "\u001b[1;31mAttributeError\u001b[0m                            Traceback (most recent call last)",
      "Input \u001b[1;32mIn [46]\u001b[0m, in \u001b[0;36m<cell line: 1>\u001b[1;34m()\u001b[0m\n\u001b[1;32m----> 1\u001b[0m \u001b[43mupdate_prices\u001b[49m\u001b[43m(\u001b[49m\u001b[43mpizza_prices\u001b[49m\u001b[43m[\u001b[49m\u001b[38;5;124;43m\"\u001b[39;49m\u001b[38;5;124;43mCheese Pizza\u001b[39;49m\u001b[38;5;124;43m\"\u001b[39;49m\u001b[43m]\u001b[49m\u001b[43m)\u001b[49m\n",
      "Input \u001b[1;32mIn [45]\u001b[0m, in \u001b[0;36mupdate_prices\u001b[1;34m(pizza_prices)\u001b[0m\n\u001b[0;32m      1\u001b[0m \u001b[38;5;28;01mdef\u001b[39;00m \u001b[38;5;21mupdate_prices\u001b[39m(pizza_prices):\n\u001b[1;32m----> 2\u001b[0m     \u001b[38;5;28;01mfor\u001b[39;00m symbol \u001b[38;5;129;01min\u001b[39;00m \u001b[43mpizza_prices\u001b[49m\u001b[38;5;241;43m.\u001b[39;49m\u001b[43mvalues\u001b[49m():\n\u001b[0;32m      4\u001b[0m         symbol\u001b[38;5;241m*\u001b[39m\u001b[38;5;241m1.15\u001b[39m\n\u001b[0;32m      5\u001b[0m         \u001b[38;5;28mfloat\u001b[39m(\u001b[38;5;124m\"\u001b[39m\u001b[38;5;132;01m{0:.2f}\u001b[39;00m\u001b[38;5;124m\"\u001b[39m\u001b[38;5;241m.\u001b[39mformat(symbol))\n",
      "\u001b[1;31mAttributeError\u001b[0m: 'float' object has no attribute 'values'"
     ]
    }
   ],
   "source": [
    "update_prices(pizza_prices[\"Cheese Pizza\"])"
   ]
  },
  {
   "cell_type": "code",
   "execution_count": null,
   "id": "b325939a",
   "metadata": {},
   "outputs": [],
   "source": [
    "# Declare functon with name \"calculate_areaasquare\"\n",
    "def calculate_areaasquare(l,b):\n",
    "asquare = l*b\n",
    "return asquare\n",
    "\n",
    "# Taking value of function \"areaasquare\"\n",
    "# In variable name \"areaasquare\"\n",
    "areaasquare = calculate_areaasquare(5.4,6)\n",
    "print('Area of Square: ',areaasquare)\n",
    "\n",
    "areaasquare = calculate_areaasquare(33,3.2)\n",
    "print('Area of Square: ',areaasquare)"
   ]
  },
  {
   "cell_type": "code",
   "execution_count": 11,
   "id": "0ccbc595",
   "metadata": {},
   "outputs": [
    {
     "name": "stdout",
     "output_type": "stream",
     "text": [
      "19.538499999999996\n"
     ]
    }
   ],
   "source": [
    " pizza_prices = {\n",
    "        \"Cheese Pizza\": 11.99,\n",
    "        \"Pepperoni Pizza\": 14.99,\n",
    "        \"BBQ Chicken Pizza\": 13.99,\n",
    "        \"Hawaiian Pizza\": 12.99,\n",
    "        \"Meat Pizza\": 16.99\n",
    "    }\n",
    "    \n",
    "    \n",
    "for key, value in pizza_prices.items():\n",
    "     value =value*1.15\n",
    "print(value)\n",
    "        \n",
    "        "
   ]
  },
  {
   "cell_type": "code",
   "execution_count": null,
   "id": "4a159d73",
   "metadata": {},
   "outputs": [],
   "source": [
    "Beginner: Range with One Parameter\n",
    "Welcome to this coding exercise.\n",
    "\n",
    "- Count and print the number of vowels in the variable word that holds a string in lowercase.\n",
    "\n",
    "- Output: \"Number of vowels in <word>:  <num>\" where <word> is replaced by the value of the variable word and <num> is replaced by the number of vowels found.\n",
    "\n",
    "- Assume that word is a variable that is already defined in the program. This variable will be used by the automated grader to test your code with different strings.\n",
    "\n",
    "-------------\n",
    "\n",
    "💡 Tips:\n",
    "\n",
    "- Use a for loop to check if a character is a vowel or not.\n",
    "\n",
    "- Keep track of the number of vowels with a counter.\n",
    "\n",
    "- word is a variable that holds a string.\n",
    "\n"
   ]
  },
  {
   "cell_type": "markdown",
   "id": "8219e041",
   "metadata": {},
   "source": [
    "- Count and print the number of vowels in the variable word that holds a string in lowercase."
   ]
  },
  {
   "cell_type": "code",
   "execution_count": 38,
   "id": "58e1f707",
   "metadata": {},
   "outputs": [],
   "source": [
    "from collections import defaultdict\n",
    "\n",
    "\n",
    "def count_vowels(word):\n",
    "    vowels = 'aeiouAEIOU'\n",
    "    count = defaultdict(int)   # init counter\n",
    "    for char in word:\n",
    "        if char in vowels:\n",
    "            count[char] += 1\n",
    "    return count"
   ]
  },
  {
   "cell_type": "code",
   "execution_count": 41,
   "id": "16693f07",
   "metadata": {},
   "outputs": [
    {
     "name": "stdout",
     "output_type": "stream",
     "text": [
      "5\n",
      "['e', 'e', 'o', 'e', 'e']\n"
     ]
    }
   ],
   "source": [
    "def Check_Vow(string, vowels):\n",
    "    final = [each for each in string if each in vowels]\n",
    "    print(len(final))\n",
    "    print(final)\n",
    "     \n",
    "# Driver Code\n",
    "string = \"Geeks for Geeks\"\n",
    "vowels = \"AaEeIiOoUu\"\n",
    "Check_Vow(string, vowels);"
   ]
  },
  {
   "cell_type": "code",
   "execution_count": 42,
   "id": "89cfff2e",
   "metadata": {},
   "outputs": [
    {
     "name": "stdout",
     "output_type": "stream",
     "text": [
      "1\n",
      "['o']\n"
     ]
    }
   ],
   "source": [
    "def Check_Vow(string, vowels):\n",
    "    final = [each for each in string if each in vowels]\n",
    "    print(len(final))\n",
    "    print(final)\n",
    "     \n",
    "# Driver Code\n",
    "string = \"word\"\n",
    "vowels = \"AaEeIiOoUu\"\n",
    "Check_Vow(string, vowels);"
   ]
  },
  {
   "cell_type": "code",
   "execution_count": 43,
   "id": "a5fa21d2",
   "metadata": {},
   "outputs": [],
   "source": [
    "def count_vowels(word):\n",
    "    num_vowels=0\n",
    "    for word in \"aeiouAEIOU\" :\n",
    "        num_vowels = num_vowels+1\n",
    "    return num_vowels"
   ]
  },
  {
   "cell_type": "code",
   "execution_count": 44,
   "id": "1a82623e",
   "metadata": {},
   "outputs": [
    {
     "ename": "NameError",
     "evalue": "name 'word' is not defined",
     "output_type": "error",
     "traceback": [
      "\u001b[1;31m---------------------------------------------------------------------------\u001b[0m",
      "\u001b[1;31mNameError\u001b[0m                                 Traceback (most recent call last)",
      "Input \u001b[1;32mIn [44]\u001b[0m, in \u001b[0;36m<cell line: 1>\u001b[1;34m()\u001b[0m\n\u001b[1;32m----> 1\u001b[0m count_vowels(\u001b[43mword\u001b[49m)\n",
      "\u001b[1;31mNameError\u001b[0m: name 'word' is not defined"
     ]
    }
   ],
   "source": [
    "count_vowels(word)"
   ]
  },
  {
   "cell_type": "code",
   "execution_count": 33,
   "id": "1aeb24eb",
   "metadata": {},
   "outputs": [],
   "source": [
    "def countvowels(hello):\n",
    "    num_vowels=0\n",
    "    for char in hello:\n",
    "        if char in \"aeiouAEIOU\":\n",
    "           num_vowels = num_vowels+1\n",
    "    return num_vowels"
   ]
  },
  {
   "cell_type": "code",
   "execution_count": 34,
   "id": "830a08df",
   "metadata": {},
   "outputs": [
    {
     "ename": "NameError",
     "evalue": "name 'hello' is not defined",
     "output_type": "error",
     "traceback": [
      "\u001b[1;31m---------------------------------------------------------------------------\u001b[0m",
      "\u001b[1;31mNameError\u001b[0m                                 Traceback (most recent call last)",
      "Input \u001b[1;32mIn [34]\u001b[0m, in \u001b[0;36m<cell line: 1>\u001b[1;34m()\u001b[0m\n\u001b[1;32m----> 1\u001b[0m countvowels(\u001b[43mhello\u001b[49m)\n",
      "\u001b[1;31mNameError\u001b[0m: name 'hello' is not defined"
     ]
    }
   ],
   "source": [
    "countvowels(hello)"
   ]
  },
  {
   "cell_type": "code",
   "execution_count": 20,
   "id": "79181ee5",
   "metadata": {},
   "outputs": [
    {
     "name": "stdout",
     "output_type": "stream",
     "text": [
      "Enter string:word\n",
      "Number of vowels are:\n",
      "1\n"
     ]
    }
   ],
   "source": [
    "string=input(\"Enter string:\")\n",
    "vowels=0\n",
    "for i in string:\n",
    "      if(i=='a' or i=='e' or i=='i' or i=='o' or i=='u' or i=='A' or i=='E' or i=='I' or i=='O' or i=='U'):\n",
    "            vowels=vowels+1\n",
    "print(\"Number of vowels are:\")\n",
    "print(vowels)\n"
   ]
  },
  {
   "cell_type": "code",
   "execution_count": null,
   "id": "8a596691",
   "metadata": {},
   "outputs": [],
   "source": []
  },
  {
   "cell_type": "markdown",
   "id": "985450ae",
   "metadata": {},
   "source": [
    "1. Convert radians into degrees\n",
    "Write a function in Python that accepts one numeric parameter. This parameter will be the measure of an angle in radians. The function should convert the radians into degrees and then return that value."
   ]
  },
  {
   "cell_type": "code",
   "execution_count": 2,
   "id": "a9a95bcd",
   "metadata": {},
   "outputs": [],
   "source": [
    "def funtion(num):\n",
    "    "
   ]
  },
  {
   "cell_type": "code",
   "execution_count": null,
   "id": "135d0d5b",
   "metadata": {},
   "outputs": [],
   "source": [
    "funtion(n)"
   ]
  },
  {
   "cell_type": "code",
   "execution_count": null,
   "id": "76c367c9",
   "metadata": {},
   "outputs": [],
   "source": [
    "https://pynative.com/python-functions-exercise-with-solutions/#h-exercise-9-find-the-largest-item-from-a-given-list"
   ]
  },
  {
   "cell_type": "code",
   "execution_count": null,
   "id": "4ee2ed64",
   "metadata": {},
   "outputs": [],
   "source": []
  },
  {
   "cell_type": "code",
   "execution_count": null,
   "id": "baa8fb6c",
   "metadata": {},
   "outputs": [],
   "source": [
    "https://realpython.com/lessons/basics-python-inner-functions/"
   ]
  }
 ],
 "metadata": {
  "kernelspec": {
   "display_name": "Python 3 (ipykernel)",
   "language": "python",
   "name": "python3"
  },
  "language_info": {
   "codemirror_mode": {
    "name": "ipython",
    "version": 3
   },
   "file_extension": ".py",
   "mimetype": "text/x-python",
   "name": "python",
   "nbconvert_exporter": "python",
   "pygments_lexer": "ipython3",
   "version": "3.9.12"
  }
 },
 "nbformat": 4,
 "nbformat_minor": 5
}
