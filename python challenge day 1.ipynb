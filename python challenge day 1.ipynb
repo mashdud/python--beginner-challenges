{
 "cells": [
  {
   "cell_type": "markdown",
   "id": "de295b67",
   "metadata": {},
   "source": [
    "for loop basics"
   ]
  },
  {
   "cell_type": "code",
   "execution_count": 1,
   "id": "f79db513",
   "metadata": {},
   "outputs": [
    {
     "data": {
      "text/plain": [
       "range(0, 5)"
      ]
     },
     "execution_count": 1,
     "metadata": {},
     "output_type": "execute_result"
    }
   ],
   "source": [
    "range(5)"
   ]
  },
  {
   "cell_type": "markdown",
   "id": "20c1657b",
   "metadata": {},
   "source": [
    "for <var> in <iteration>:\n",
    "    body"
   ]
  },
  {
   "cell_type": "code",
   "execution_count": 11,
   "id": "622f8896",
   "metadata": {},
   "outputs": [],
   "source": [
    "a=\"Loops\""
   ]
  },
  {
   "cell_type": "code",
   "execution_count": 12,
   "id": "12b50c36",
   "metadata": {},
   "outputs": [
    {
     "name": "stdout",
     "output_type": "stream",
     "text": [
      "L\n",
      "o\n",
      "o\n",
      "p\n",
      "s\n"
     ]
    }
   ],
   "source": [
    "for char in a:\n",
    "    print(char)"
   ]
  },
  {
   "cell_type": "code",
   "execution_count": 10,
   "id": "d5ce3d3e",
   "metadata": {},
   "outputs": [
    {
     "name": "stdout",
     "output_type": "stream",
     "text": [
      "L\n",
      "o\n",
      "o\n",
      "p\n",
      "s\n"
     ]
    }
   ],
   "source": [
    "for char in \"Loops\":\n",
    "    print (char)"
   ]
  },
  {
   "cell_type": "code",
   "execution_count": 14,
   "id": "4b0827c9",
   "metadata": {},
   "outputs": [
    {
     "name": "stdout",
     "output_type": "stream",
     "text": [
      "1\n",
      "2\n",
      "3\n"
     ]
    }
   ],
   "source": [
    "for num in [1,2,3]:\n",
    "    print (num)"
   ]
  },
  {
   "cell_type": "code",
   "execution_count": 16,
   "id": "ddd504e9",
   "metadata": {},
   "outputs": [
    {
     "name": "stdout",
     "output_type": "stream",
     "text": [
      "1\n",
      "2\n",
      "3\n"
     ]
    }
   ],
   "source": [
    "for num in (1,2,3):\n",
    "    print (num)"
   ]
  },
  {
   "cell_type": "markdown",
   "id": "c5080dca",
   "metadata": {},
   "source": [
    "#iteration over dictionaries:\n",
    "->keys \n",
    "->values"
   ]
  },
  {
   "cell_type": "code",
   "execution_count": 22,
   "id": "5c019e6e",
   "metadata": {},
   "outputs": [
    {
     "name": "stdout",
     "output_type": "stream",
     "text": [
      "a\n",
      "b\n"
     ]
    }
   ],
   "source": [
    "for key in {\"a\":1,\"b\":2}:\n",
    "    print(key)"
   ]
  },
  {
   "cell_type": "markdown",
   "id": "026c2124",
   "metadata": {},
   "source": [
    "this will jump 2 :"
   ]
  },
  {
   "cell_type": "code",
   "execution_count": 27,
   "id": "64023ad3",
   "metadata": {},
   "outputs": [
    {
     "name": "stdout",
     "output_type": "stream",
     "text": [
      "4\n",
      "6\n"
     ]
    }
   ],
   "source": [
    "for i in range (4,8,2):\n",
    "    print (i)"
   ]
  },
  {
   "cell_type": "code",
   "execution_count": null,
   "id": "2d9d8db5",
   "metadata": {},
   "outputs": [],
   "source": [
    "this will jump 4:"
   ]
  },
  {
   "cell_type": "code",
   "execution_count": 29,
   "id": "b900500f",
   "metadata": {},
   "outputs": [
    {
     "name": "stdout",
     "output_type": "stream",
     "text": [
      "10\n",
      "13\n",
      "16\n",
      "19\n"
     ]
    }
   ],
   "source": [
    "for i in range(10,22,3):\n",
    "    print (i)"
   ]
  },
  {
   "cell_type": "code",
   "execution_count": 33,
   "id": "296aa052",
   "metadata": {},
   "outputs": [
    {
     "name": "stdout",
     "output_type": "stream",
     "text": [
      "Found Gino!\n"
     ]
    }
   ],
   "source": [
    "contacts = {\"Nora\": \"053-342-232\",\n",
    "            \"Jack\": \"342-342-123\",\n",
    "            \"Gino\": \"672-343-564\"}\n",
    " \n",
    "for contact in contacts:\n",
    "    if contact[0] == \"G\":\n",
    "        print(\"Found Gino!\")\n",
    "    "
   ]
  },
  {
   "cell_type": "markdown",
   "id": "ebed747b",
   "metadata": {},
   "source": [
    "how to iterate over the characters in a string "
   ]
  },
  {
   "cell_type": "code",
   "execution_count": 34,
   "id": "5ca3f21b",
   "metadata": {},
   "outputs": [
    {
     "name": "stdout",
     "output_type": "stream",
     "text": [
      " \n",
      "h\n",
      "e\n",
      "l\n",
      "l\n",
      "o\n",
      ",\n",
      "w\n",
      "o\n",
      "r\n",
      "l\n",
      "d\n",
      "!\n"
     ]
    }
   ],
   "source": [
    "s= \" hello,world!\"\n",
    "for char in s[2:9:2] :\n",
    "    print(char)"
   ]
  },
  {
   "cell_type": "code",
   "execution_count": 35,
   "id": "27ab1941",
   "metadata": {},
   "outputs": [
    {
     "name": "stdout",
     "output_type": "stream",
     "text": [
      "e\n",
      "l\n",
      ",\n",
      "o\n"
     ]
    }
   ],
   "source": [
    "s= \" hello,world!\"\n",
    "for char in s[2:9:2] :\n",
    "    print(char)"
   ]
  },
  {
   "cell_type": "markdown",
   "id": "87ec2bda",
   "metadata": {},
   "source": [
    "this will convert upper case to lower case"
   ]
  },
  {
   "cell_type": "code",
   "execution_count": 36,
   "id": "0309eae4",
   "metadata": {},
   "outputs": [
    {
     "name": "stdout",
     "output_type": "stream",
     "text": [
      "ll\n"
     ]
    }
   ],
   "source": [
    "s=\"Learning Loops\"\n",
    "new_str=\"\"\n",
    "for char in s:\n",
    "    if char.isupper():\n",
    "        new_str +=char.lower()\n",
    "print(new_str)\n",
    "        "
   ]
  },
  {
   "cell_type": "markdown",
   "id": "4c4b015f",
   "metadata": {},
   "source": [
    "conver all lower case to upper case"
   ]
  },
  {
   "cell_type": "code",
   "execution_count": 38,
   "id": "9068a9cd",
   "metadata": {},
   "outputs": [
    {
     "name": "stdout",
     "output_type": "stream",
     "text": [
      "EARNINGOOPS\n"
     ]
    }
   ],
   "source": [
    "new_str=\"\"\n",
    "for char in s:\n",
    "    if char.islower():\n",
    "        new_str +=char.upper()\n",
    "print(new_str)\n",
    "        "
   ]
  },
  {
   "cell_type": "markdown",
   "id": "e08fdb0c",
   "metadata": {},
   "source": [
    "first convert all characters to lower case then convert to upper case and vise vasa"
   ]
  },
  {
   "cell_type": "code",
   "execution_count": 39,
   "id": "368570c1",
   "metadata": {},
   "outputs": [
    {
     "name": "stdout",
     "output_type": "stream",
     "text": [
      "lEARNING lOOPS\n"
     ]
    }
   ],
   "source": [
    "new_str=\"\"\n",
    "for char in s:\n",
    "    if char.isupper():\n",
    "        new_str +=char.lower()\n",
    "    else:\n",
    "         new_str +=char.upper()\n",
    "        \n",
    "print(new_str)\n",
    "        "
   ]
  },
  {
   "cell_type": "code",
   "execution_count": null,
   "id": "41984b65",
   "metadata": {},
   "outputs": [],
   "source": [
    "# remove duplicated from list "
   ]
  },
  {
   "cell_type": "code",
   "execution_count": 42,
   "id": "f6ec1b8f",
   "metadata": {},
   "outputs": [],
   "source": [
    "s=\"aabbccddeffghhii\"\n",
    "new_str=[]\n",
    "\n",
    "for i in s:\n",
    "    if i not in new_str : \n",
    "        new_str.append(i) \n"
   ]
  },
  {
   "cell_type": "code",
   "execution_count": 43,
   "id": "e22330c1",
   "metadata": {},
   "outputs": [
    {
     "name": "stdout",
     "output_type": "stream",
     "text": [
      "['a', 'b', 'c', 'd', 'e', 'f', 'g', 'h', 'i']\n"
     ]
    }
   ],
   "source": [
    "print(new_str)"
   ]
  },
  {
   "cell_type": "code",
   "execution_count": null,
   "id": "d6309b99",
   "metadata": {},
   "outputs": [],
   "source": [
    "#iterating through characters"
   ]
  },
  {
   "cell_type": "code",
   "execution_count": 48,
   "id": "68d6b07f",
   "metadata": {},
   "outputs": [
    {
     "name": "stdout",
     "output_type": "stream",
     "text": [
      "abcdefghi\n"
     ]
    }
   ],
   "source": [
    "s=\"aabbccddeffghhii\"\n",
    "new_str=\"\"\n",
    "\n",
    "for char in s:\n",
    "    if not char in new_str:\n",
    "        new_str +=char\n",
    "print(new_str)"
   ]
  },
  {
   "cell_type": "code",
   "execution_count": 59,
   "id": "6331b27d",
   "metadata": {},
   "outputs": [
    {
     "name": "stdout",
     "output_type": "stream",
     "text": [
      "ABCDEFGHI\n"
     ]
    }
   ],
   "source": [
    "s=\"aabbccddeffghhii\"\n",
    "new_str=\"\"\n",
    "\n",
    "for char in s:\n",
    "    char=char.upper()\n",
    "    if not char in new_str:\n",
    "        new_str +=char\n",
    "print(new_str)"
   ]
  },
  {
   "cell_type": "code",
   "execution_count": 57,
   "id": "6cced045",
   "metadata": {},
   "outputs": [
    {
     "name": "stdout",
     "output_type": "stream",
     "text": [
      "RANDOM STRING\n"
     ]
    }
   ],
   "source": [
    "text = \"Random String\"\n",
    "text = text.upper() #Can also do \n",
    "print(text)"
   ]
  },
  {
   "cell_type": "code",
   "execution_count": null,
   "id": "ca98f055",
   "metadata": {},
   "outputs": [],
   "source": [
    "Iterating over a list and tupple"
   ]
  },
  {
   "cell_type": "code",
   "execution_count": 62,
   "id": "c149daa7",
   "metadata": {},
   "outputs": [
    {
     "name": "stdout",
     "output_type": "stream",
     "text": [
      "[1, 2, 3, 4, 5]\n",
      "[1, 2, 3, 4, 5]\n",
      "[1, 2, 3, 4, 5]\n",
      "[1, 2, 3, 4, 5]\n",
      "[1, 2, 3, 4, 5]\n"
     ]
    }
   ],
   "source": [
    "nums=[1,2,3,4,5]\n",
    "\n",
    "for num in nums: \n",
    "    print(nums)\n"
   ]
  },
  {
   "cell_type": "markdown",
   "id": "7b35d457",
   "metadata": {},
   "source": [
    "lists are mutable"
   ]
  },
  {
   "cell_type": "code",
   "execution_count": 63,
   "id": "ba77453a",
   "metadata": {},
   "outputs": [],
   "source": [
    " a = [1, 2, 3, 4, 5]\n",
    "for num in a:\n",
    "    a.remove(num)"
   ]
  },
  {
   "cell_type": "code",
   "execution_count": 64,
   "id": "b36e1737",
   "metadata": {},
   "outputs": [
    {
     "name": "stdout",
     "output_type": "stream",
     "text": [
      "[2, 4]\n"
     ]
    }
   ],
   "source": [
    "print(a)"
   ]
  },
  {
   "cell_type": "markdown",
   "id": "f853abf6",
   "metadata": {},
   "source": [
    "Two elements were not removed!"
   ]
  },
  {
   "cell_type": "markdown",
   "id": "156ebbd8",
   "metadata": {},
   "source": [
    "trange, right? The list is mutated in each iteration, so the elements are not being removed like we expected.\n",
    "\n",
    "This occurs because calling .remove() mutates (changes) the original list in memory and the internal \"tracker\" used to iterate over the list in the loop is changed as well, so the element that used to be the next element in the list is not the next element after this change."
   ]
  },
  {
   "cell_type": "markdown",
   "id": "91123737",
   "metadata": {},
   "source": [
    "Solution\n",
    "\n",
    "One alternative to get the expected behavior of the loop is to make a copy of the list with a[:] and iterating over this copy instead of the original list. The change would still have to be made to the original list a."
   ]
  },
  {
   "cell_type": "code",
   "execution_count": 66,
   "id": "d119a603",
   "metadata": {},
   "outputs": [
    {
     "name": "stdout",
     "output_type": "stream",
     "text": [
      "[]\n"
     ]
    }
   ],
   "source": [
    " a = [1, 2, 3, 4, 5]\n",
    "for num in a[:]:\n",
    "    a.remove(num)\n",
    "print(a)"
   ]
  },
  {
   "cell_type": "code",
   "execution_count": 69,
   "id": "a805b932",
   "metadata": {},
   "outputs": [
    {
     "name": "stdout",
     "output_type": "stream",
     "text": [
      "Hydrogen\n",
      "Helium\n"
     ]
    }
   ],
   "source": [
    "chemical_elements={\n",
    "    \"Hydrogen\":\"H\",\n",
    "    \"Helium\":\"He\",\n",
    "    \n",
    "}\n",
    "\n",
    "for key in chemical_elements:\n",
    "    print(key)"
   ]
  },
  {
   "cell_type": "code",
   "execution_count": 70,
   "id": "fcc22548",
   "metadata": {},
   "outputs": [
    {
     "name": "stdout",
     "output_type": "stream",
     "text": [
      "H\n",
      "He\n"
     ]
    }
   ],
   "source": [
    "for i in chemical_elements.values():\n",
    "    print(i)"
   ]
  },
  {
   "cell_type": "code",
   "execution_count": 71,
   "id": "ee20aa56",
   "metadata": {},
   "outputs": [
    {
     "name": "stdout",
     "output_type": "stream",
     "text": [
      "[('Hydrogen', 'H'), ('Helium', 'He')]\n"
     ]
    }
   ],
   "source": [
    "print(list(chemical_elements.items()))"
   ]
  },
  {
   "cell_type": "code",
   "execution_count": 72,
   "id": "16df798d",
   "metadata": {},
   "outputs": [
    {
     "name": "stdout",
     "output_type": "stream",
     "text": [
      "Hydrogen H\n",
      "Helium He\n"
     ]
    }
   ],
   "source": [
    "\n",
    "for key,value in chemical_elements.items():\n",
    "    print(key,value)"
   ]
  },
  {
   "cell_type": "markdown",
   "id": "ba76ea38",
   "metadata": {},
   "source": [
    "The keys() Method\n",
    "Return a new view of the dictionary’s keys.\n",
    "\n",
    "🔹 The values() Method\n",
    "Return a new view of the dictionary’s values.\n",
    "\n",
    "🔸 The items() Method\n",
    "Return a new view of the dictionary’s items ((key, value) pairs)."
   ]
  },
  {
   "cell_type": "code",
   "execution_count": 73,
   "id": "121896d0",
   "metadata": {},
   "outputs": [
    {
     "name": "stdout",
     "output_type": "stream",
     "text": [
      "I really like Pizza\n",
      "I really like Donuts\n",
      "I really like Ice Cream\n"
     ]
    }
   ],
   "source": [
    "for food in {\"Pizza\", \"Ice Cream\", \"Donuts\"}:\n",
    "      print(\"I really like\", food)\n",
    " "
   ]
  },
  {
   "cell_type": "code",
   "execution_count": 74,
   "id": "20f28a2f",
   "metadata": {},
   "outputs": [
    {
     "name": "stdout",
     "output_type": "stream",
     "text": [
      "1\n",
      "2\n",
      "3\n",
      "4\n"
     ]
    }
   ],
   "source": [
    "for num in [1,2,3,4]:\n",
    "    print (num)"
   ]
  },
  {
   "cell_type": "code",
   "execution_count": 75,
   "id": "0dec107f",
   "metadata": {
    "scrolled": true
   },
   "outputs": [
    {
     "name": "stdout",
     "output_type": "stream",
     "text": [
      "1\n",
      "2\n",
      "3\n",
      "4\n"
     ]
    }
   ],
   "source": [
    "for num in (1,2,3,4):\n",
    "    print(num)"
   ]
  },
  {
   "cell_type": "code",
   "execution_count": 77,
   "id": "d1f0ecf9",
   "metadata": {},
   "outputs": [
    {
     "name": "stdout",
     "output_type": "stream",
     "text": [
      "1\n",
      "2\n",
      "3\n",
      "4\n"
     ]
    }
   ],
   "source": [
    "for num in {1,2,3,4}:\n",
    "  print(num)"
   ]
  },
  {
   "cell_type": "code",
   "execution_count": null,
   "id": "83233288",
   "metadata": {},
   "outputs": [],
   "source": [
    "print(my_list)"
   ]
  },
  {
   "cell_type": "code",
   "execution_count": null,
   "id": "01c4b5b1",
   "metadata": {},
   "outputs": [],
   "source": [
    "my_list = [5, 6, 7, 8]\n",
    " \n",
    "for num in my_list:\n",
    "    my_list.append(num + 1)\n",
    "print(my_list)"
   ]
  },
  {
   "cell_type": "code",
   "execution_count": null,
   "id": "572fb100",
   "metadata": {},
   "outputs": [],
   "source": [
    "dessert_calories = {\"Ice Cream\": 267, \"Pudding\": 288, \"Brownie\": 243}\n",
    " \n",
    "for dessert, calories in dessert_calories.items():\n",
    "    print(dessert, \"has:\", calories, \"calories\")"
   ]
  },
  {
   "cell_type": "code",
   "execution_count": null,
   "id": "586117f6",
   "metadata": {},
   "outputs": [],
   "source": [
    "num_sales = {\"store1\": 45,\n",
    "             \"store2\": 67,\n",
    "             \"store3\": 10,\n",
    "             \"store4\": 156,\n",
    "             \"store5\": 24}\n",
    "list(num_sales.keys())"
   ]
  },
  {
   "cell_type": "code",
   "execution_count": null,
   "id": "56e161e4",
   "metadata": {},
   "outputs": [],
   "source": [
    "num_sales = {\"store1\": 45,\n",
    "             \"store2\": 67,\n",
    "             \"store3\": 10,\n",
    "             \"store4\": 156,\n",
    "             \"store5\": 24}\n",
    "\n",
    "\n",
    "list(num_sales.items())"
   ]
  },
  {
   "cell_type": "code",
   "execution_count": 79,
   "id": "5d56effb",
   "metadata": {},
   "outputs": [
    {
     "name": "stdout",
     "output_type": "stream",
     "text": [
      "di\n"
     ]
    }
   ],
   "source": [
    "s = \"coding\"\n",
    "x = slice(2, 4)\n",
    "print(s[x])"
   ]
  },
  {
   "cell_type": "code",
   "execution_count": 84,
   "id": "106bb726",
   "metadata": {},
   "outputs": [
    {
     "ename": "TypeError",
     "evalue": "string indices must be integers",
     "output_type": "error",
     "traceback": [
      "\u001b[1;31m---------------------------------------------------------------------------\u001b[0m",
      "\u001b[1;31mTypeError\u001b[0m                                 Traceback (most recent call last)",
      "Input \u001b[1;32mIn [84]\u001b[0m, in \u001b[0;36m<cell line: 1>\u001b[1;34m()\u001b[0m\n\u001b[1;32m----> 1\u001b[0m \u001b[38;5;28;01mfor\u001b[39;00m i \u001b[38;5;129;01min\u001b[39;00m \u001b[43ms\u001b[49m\u001b[43m[\u001b[49m\u001b[38;5;241;43m2\u001b[39;49m\u001b[43m,\u001b[49m\u001b[38;5;241;43m4\u001b[39;49m\u001b[43m]\u001b[49m:\n\u001b[0;32m      2\u001b[0m     \u001b[38;5;28mprint\u001b[39m(i)\n",
      "\u001b[1;31mTypeError\u001b[0m: string indices must be integers"
     ]
    }
   ],
   "source": [
    "for i in s[2,4]:\n",
    "    print(i)"
   ]
  },
  {
   "cell_type": "code",
   "execution_count": null,
   "id": "aa5bc4cc",
   "metadata": {},
   "outputs": [],
   "source": [
    "Coding Exercise: Update Prices\n",
    "Welcome to this coding exercise.\n",
    "\n",
    "A pizza shop has asked you to update the prices of all the types of pizzas. The data is stored in a dictionary that associates the names of the pizzas to their prices.\n",
    "\n",
    "- Your task is to use a for loop to iterate over the pizzas_prices dictionary and increment the prices by 15%.\n",
    "\n",
    "This is the initial dictionary:\n",
    "\n",
    "pizza_prices = {\n",
    "        \"Cheese Pizza\": 11.99,\n",
    "        \"Pepperoni Pizza\": 14.99,\n",
    "        \"BBQ Chicken Pizza\": 13.99,\n",
    "        \"Hawaiian Pizza\": 12.99,\n",
    "        \"Meat Pizza\": 16.99\n",
    "    }\n",
    "- The new prices must be rounded to 2 decimal places before assigning them to the dictionary."
   ]
  }
 ],
 "metadata": {
  "kernelspec": {
   "display_name": "Python 3 (ipykernel)",
   "language": "python",
   "name": "python3"
  },
  "language_info": {
   "codemirror_mode": {
    "name": "ipython",
    "version": 3
   },
   "file_extension": ".py",
   "mimetype": "text/x-python",
   "name": "python",
   "nbconvert_exporter": "python",
   "pygments_lexer": "ipython3",
   "version": "3.9.12"
  }
 },
 "nbformat": 4,
 "nbformat_minor": 5
}
